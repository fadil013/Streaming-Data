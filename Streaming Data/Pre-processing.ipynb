{
 "cells": [
  {
   "cell_type": "markdown",
   "id": "c307d996-999e-4abb-bc30-82f6e86f4886",
   "metadata": {},
   "source": [
    "# Pre-processing"
   ]
  },
  {
   "cell_type": "code",
   "execution_count": 6,
   "id": "ecbdcf3e-1c20-4dba-8245-035a960ce120",
   "metadata": {},
   "outputs": [],
   "source": [
    "import pandas as pd\n",
    "import json\n",
    "import re\n",
    "\n",
    "# Define a function to remove HTML tags from text\n",
    "def remove_html_tags(text):\n",
    "    if isinstance(text, str):\n",
    "        clean = re.compile('<.*?>')\n",
    "        return re.sub(clean, '', text)\n",
    "    elif isinstance(text, list):\n",
    "        return [remove_html_tags(item) for item in text]\n",
    "    else:\n",
    "        return text\n",
    "\n",
    "# Processed chunk count\n",
    "processed_chunks = 0\n",
    "\n",
    "# Load JSON file in chunks\n",
    "chunk_size = 10000  # Adjust chunk size as needed\n",
    "with open('Sampled_Amazon_eta.json', 'r') as file:\n",
    "    for _ in range(processed_chunks * chunk_size):  # Skip rows if necessary\n",
    "        next(file)\n",
    "    \n",
    "    for chunk in pd.read_json(file, lines=True, chunksize=chunk_size):\n",
    "        # Remove unwanted columns\n",
    "        unwanted_columns = ['imageURL', 'imageURL', 'similar']\n",
    "        chunk = chunk.drop(columns=unwanted_columns, errors='ignore')\n",
    "        \n",
    "        # Remove rows with null values\n",
    "        chunk = chunk.dropna()\n",
    "\n",
    "        # Remove HTML code from all fields\n",
    "        for col in chunk.columns:\n",
    "            chunk[col] = chunk[col].apply(remove_html_tags)\n",
    "\n",
    "        # Update processed chunk count\n",
    "        processed_chunks += 1\n",
    "\n",
    "        # Perform your data processing here\n",
    "        #print(chunk.head())  # For demonstration purposes only, remove this line in actual processing\n",
    "\n",
    "        # Write cleaned chunk to file\n",
    "        with open('cleaned.json', 'a') as cleaned_file:\n",
    "            chunk.to_json(cleaned_file, orient='records', lines=True)"
   ]
  },
  {
   "cell_type": "code",
   "execution_count": null,
   "id": "e96f2249-69a1-4564-a2fa-e476c82c5f7e",
   "metadata": {},
   "outputs": [],
   "source": []
  }
 ],
 "metadata": {
  "kernelspec": {
   "display_name": "Python 3 (ipykernel)",
   "language": "python",
   "name": "python3"
  },
  "language_info": {
   "codemirror_mode": {
    "name": "ipython",
    "version": 3
   },
   "file_extension": ".py",
   "mimetype": "text/x-python",
   "name": "python",
   "nbconvert_exporter": "python",
   "pygments_lexer": "ipython3",
   "version": "3.11.7"
  }
 },
 "nbformat": 4,
 "nbformat_minor": 5
}
